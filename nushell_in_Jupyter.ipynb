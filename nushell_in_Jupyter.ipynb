{
  "nbformat": 4,
  "nbformat_minor": 0,
  "metadata": {
    "colab": {
      "provenance": [],
      "authorship_tag": "ABX9TyOPimhdZDRuh5EdETZo2uZF",
      "include_colab_link": true
    },
    "kernelspec": {
      "name": "python3",
      "display_name": "Python 3"
    },
    "language_info": {
      "name": "python"
    }
  },
  "cells": [
    {
      "cell_type": "markdown",
      "metadata": {
        "id": "view-in-github",
        "colab_type": "text"
      },
      "source": [
        "<a href=\"https://colab.research.google.com/github/rwcitek/StructureAndInterpretationOfComputerShells-Nushell/blob/rwc/nushell_in_Jupyter.ipynb\" target=\"_parent\"><img src=\"https://colab.research.google.com/assets/colab-badge.svg\" alt=\"Open In Colab\"/></a>"
      ]
    },
    {
      "cell_type": "markdown",
      "source": [
        "# How to install nushell in Jupyter"
      ],
      "metadata": {
        "id": "7fY894GM_2kM"
      }
    },
    {
      "cell_type": "markdown",
      "source": [
        "These commands have been tested in Google's CoLab and in GitHub's CodeSpaces, but may work in other Jupyter environments as well."
      ],
      "metadata": {
        "id": "UtwHd8BwVX18"
      }
    },
    {
      "cell_type": "code",
      "source": [
        "%%capture output\n",
        "%%bash\n",
        "\n",
        "export DEBIAN_FRONTEND=noninteractive\n",
        "sudo apt-get update\n",
        "sudo apt-get install -y pkg-config libssl-dev jq tree vim curl less elinks\n"
      ],
      "metadata": {
        "id": "4CiEBTA3uMCa"
      },
      "execution_count": null,
      "outputs": []
    },
    {
      "cell_type": "code",
      "source": [
        "# %%capture output\n",
        "%%bash\n",
        "cd /usr/local/bin/\n",
        "elinks --dump https://github.com/nushell/nushell/releases |\n",
        "  grep -m1 -o https:.*x86_64-unknown-linux-gnu.tar.gz |\n",
        "  xargs curl -Ls |\n",
        "  sudo tar -xzf -\n",
        "sudo ln -snf ./nu-*-unknown-linux-gnu/nu\n",
        "yes | nu >& /dev/null\n",
        "\n",
        "# get rid of ASCII art\n",
        "sed -i -e '/mode.*rounded/ { s/mode/# mode/ ; s/$/\\n    mode: none / } ' \\\n",
        "  ${HOME}/.config/nushell/config.nu\n"
      ],
      "metadata": {
        "id": "tOnEnbZ5ufeq"
      },
      "execution_count": null,
      "outputs": []
    },
    {
      "cell_type": "code",
      "source": [
        "!grep -C3 'mode: none' ${HOME}/.config/nushell/config.nu\n"
      ],
      "metadata": {
        "colab": {
          "base_uri": "https://localhost:8080/"
        },
        "id": "jKspvACaBIGC",
        "outputId": "f05c27f6-d83c-4ee9-cb4b-db15a9da7999"
      },
      "execution_count": null,
      "outputs": [
        {
          "output_type": "stream",
          "name": "stdout",
          "text": [
            "\n",
            "    table: {\n",
            "        # mode: rounded # basic, compact, compact_double, light, thin, with_love, rounded, reinforced, heavy, none, other\n",
            "    mode: none \n",
            "        index_mode: always # \"always\" show indexes, \"never\" show indexes, \"auto\" = show indexes when a table has \"index\" column\n",
            "        show_empty: true # show 'empty list' and 'empty record' placeholders for command output\n",
            "        trim: {\n"
          ]
        }
      ]
    },
    {
      "cell_type": "code",
      "source": [
        "!nu --help"
      ],
      "metadata": {
        "colab": {
          "base_uri": "https://localhost:8080/"
        },
        "id": "wNjVNzA4uL-r",
        "outputId": "c6cb9a7a-55a8-43bd-d2ca-24ee81d47ea1"
      },
      "execution_count": null,
      "outputs": [
        {
          "output_type": "stream",
          "name": "stdout",
          "text": [
            "The nushell language and shell.\n",
            "\n",
            "\u001b[32mUsage\u001b[0m:\n",
            "  > nu {flags} (script file) ...(script args) \n",
            "\n",
            "\u001b[32mFlags\u001b[0m:\n",
            "  \u001b[36m-h\u001b[39m,\u001b[0m \u001b[36m--help\u001b[0m - Display the help message for this command\n",
            "  \u001b[36m-c\u001b[39m,\u001b[0m \u001b[36m--commands\u001b[0m <\u001b[94mString\u001b[0m> - run the given commands and then exit\n",
            "  \u001b[36m-e\u001b[39m,\u001b[0m \u001b[36m--execute\u001b[0m <\u001b[94mString\u001b[0m> - run the given commands and then enter an interactive shell\n",
            "  \u001b[36m-I\u001b[39m,\u001b[0m \u001b[36m--include-path\u001b[0m <\u001b[94mString\u001b[0m> - set the NU_LIB_DIRS for the given script (semicolon-delimited)\n",
            "  \u001b[36m-i\u001b[39m,\u001b[0m \u001b[36m--interactive\u001b[0m - start as an interactive shell\n",
            "  \u001b[36m-l\u001b[39m,\u001b[0m \u001b[36m--login\u001b[0m - start as a login shell\n",
            "  \u001b[36m-m\u001b[39m,\u001b[0m \u001b[36m--table-mode\u001b[0m <\u001b[94mString\u001b[0m> - the table mode to use. rounded is default.\n",
            "  \u001b[36m-n\u001b[39m,\u001b[0m \u001b[36m--no-config-file\u001b[0m - start with no config file and no env file\n",
            "  \u001b[36m--no-std-lib\u001b[0m - start with no standard library\n",
            "  \u001b[36m-t\u001b[39m,\u001b[0m \u001b[36m--threads\u001b[0m <\u001b[94mInt\u001b[0m> - threads to use for parallel commands\n",
            "  \u001b[36m-v\u001b[39m,\u001b[0m \u001b[36m--version\u001b[0m - print the version\n",
            "  \u001b[36m--config\u001b[0m <\u001b[94mString\u001b[0m> - start with an alternate config file\n",
            "  \u001b[36m--env-config\u001b[0m <\u001b[94mString\u001b[0m> - start with an alternate environment config file\n",
            "  \u001b[36m--ide-goto-def\u001b[0m <\u001b[94mInt\u001b[0m> - go to the definition of the item at the given position\n",
            "  \u001b[36m--ide-hover\u001b[0m <\u001b[94mInt\u001b[0m> - give information about the item at the given position\n",
            "  \u001b[36m--ide-complete\u001b[0m <\u001b[94mInt\u001b[0m> - list completions for the item at the given position\n",
            "  \u001b[36m--ide-check\u001b[0m <\u001b[94mInt\u001b[0m> - run a diagnostic check on the given source and limit number of errors returned to provided number\n",
            "  \u001b[36m--ide-ast\u001b[0m - generate the ast on the given source\n",
            "  \u001b[36m--plugin-config\u001b[0m <\u001b[94mString\u001b[0m> - start with an alternate plugin signature file\n",
            "  \u001b[36m--log-level\u001b[0m <\u001b[94mString\u001b[0m> - log level for diagnostic logs (error, warn, info, debug, trace). Off by default\n",
            "  \u001b[36m--log-target\u001b[0m <\u001b[94mString\u001b[0m> - set the target for the log to output. stdout, stderr(default), mixed or file\n",
            "  \u001b[36m--stdin\u001b[0m - redirect standard input to a command (with `-c`) or a script file\n",
            "  \u001b[36m--testbin\u001b[0m <\u001b[94mString\u001b[0m> - run internal test binary\n",
            "\n",
            "\u001b[32mParameters\u001b[0m:\n",
            "  \u001b[36mscript file\u001b[0m <\u001b[94mpath\u001b[0m>: name of the optional script file to run (optional)\n",
            "  ...\u001b[36mscript args\u001b[0m <\u001b[94mstring\u001b[0m>: parameters to the script file\n",
            "\n",
            "\u001b[32mExamples\u001b[0m:\n",
            "  Run a script\n",
            "  > \u001b[36mnu\u001b[0m \u001b[1;32mmyfile.nu\u001b[0m\n",
            "\n",
            "  Run nushell interactively (as a shell or REPL)\n",
            "  > \u001b[36mnu\u001b[0m\n",
            "\n"
          ]
        }
      ]
    },
    {
      "cell_type": "code",
      "source": [
        "!nu --version"
      ],
      "metadata": {
        "colab": {
          "base_uri": "https://localhost:8080/"
        },
        "id": "wHigi-xmuL3f",
        "outputId": "478e1ae5-bb09-409f-b82c-3213902e0f0b"
      },
      "execution_count": null,
      "outputs": [
        {
          "output_type": "stream",
          "name": "stdout",
          "text": [
            "0.83.1\n"
          ]
        }
      ]
    },
    {
      "cell_type": "code",
      "source": [
        "# the command works, but filtering does not\n",
        "%%script bash\n",
        "cat <<'eof' | nu --config /root/.config/nushell/config.nu -c $(cat)\n",
        "ls | where type == file\n",
        "eof\n"
      ],
      "metadata": {
        "colab": {
          "base_uri": "https://localhost:8080/"
        },
        "id": "hmG_TMbuJFJN",
        "outputId": "9a3b1846-64b2-459e-969a-7fd7f3a00dd8"
      },
      "execution_count": null,
      "outputs": [
        {
          "output_type": "stream",
          "name": "stdout",
          "text": [
            " #      name       type    size     modified  \n",
            " 0   sample_data   dir    4.1 KB   3 days ago \n",
            "\n"
          ]
        }
      ]
    },
    {
      "cell_type": "code",
      "source": [
        "# the command works, but filtering does not\n",
        "%%script bash\n",
        "nu --config /root/.config/nushell/config.nu -c $(\n",
        "cat <<'eof'\n",
        "ls | where type == file\n",
        "eof\n",
        ")\n"
      ],
      "metadata": {
        "id": "EfsCzVl60_xH"
      },
      "execution_count": null,
      "outputs": []
    },
    {
      "cell_type": "code",
      "source": [
        "# the commmand and filter work\n",
        "%%script bash\n",
        "nu --config /root/.config/nushell/config.nu -c '\n",
        "  ls | where type == file\n",
        "'\n"
      ],
      "metadata": {
        "id": "r7j40VwfuLxw"
      },
      "execution_count": null,
      "outputs": []
    },
    {
      "cell_type": "code",
      "source": [
        "%%script bash\n",
        "echo ls > /tmp/example.001.nu\n",
        "cat /tmp/example.001.nu | nu --stdin\n"
      ],
      "metadata": {
        "id": "NU3ar7BODsdQ"
      },
      "execution_count": null,
      "outputs": []
    },
    {
      "cell_type": "code",
      "source": [
        "%%script bash\n",
        "echo 'ls | where type == file'  > /tmp/example.001.nu\n",
        "nu /tmp/example.001.nu\n"
      ],
      "metadata": {
        "id": "D95cFbdsEC0I"
      },
      "execution_count": null,
      "outputs": []
    },
    {
      "cell_type": "code",
      "source": [
        "%%script bash\n",
        "print ls | nu --stdin\n"
      ],
      "metadata": {
        "id": "oOY7WzTFElnj"
      },
      "execution_count": null,
      "outputs": []
    },
    {
      "cell_type": "code",
      "source": [
        "%%script bash\n",
        "for mode in basic compact compact_double light thin with_love rounded reinforced heavy none other ; do\n",
        "  echo == \"${mode}\"\n",
        "  nu --table-mode \"${mode}\" /tmp/example.001.nu\n",
        "done"
      ],
      "metadata": {
        "id": "Sr4ay-ZtEljK"
      },
      "execution_count": null,
      "outputs": []
    },
    {
      "cell_type": "code",
      "source": [],
      "metadata": {
        "id": "QLfRWVCqElf2"
      },
      "execution_count": null,
      "outputs": []
    },
    {
      "cell_type": "code",
      "source": [],
      "metadata": {
        "id": "6eJ9p-tbElcc"
      },
      "execution_count": null,
      "outputs": []
    },
    {
      "cell_type": "code",
      "source": [],
      "metadata": {
        "id": "YBSx5xFfElZA"
      },
      "execution_count": null,
      "outputs": []
    },
    {
      "cell_type": "code",
      "source": [],
      "metadata": {
        "id": "XnfsqQKSElU6"
      },
      "execution_count": null,
      "outputs": []
    },
    {
      "cell_type": "code",
      "source": [],
      "metadata": {
        "id": "ckLStyy9ElRP"
      },
      "execution_count": null,
      "outputs": []
    },
    {
      "cell_type": "code",
      "source": [],
      "metadata": {
        "id": "dEGG1RgTElNu"
      },
      "execution_count": null,
      "outputs": []
    },
    {
      "cell_type": "code",
      "source": [],
      "metadata": {
        "id": "PkFUcCk9ElJ7"
      },
      "execution_count": null,
      "outputs": []
    },
    {
      "cell_type": "code",
      "source": [],
      "metadata": {
        "id": "yYUPpS85ElGU"
      },
      "execution_count": null,
      "outputs": []
    }
  ]
}