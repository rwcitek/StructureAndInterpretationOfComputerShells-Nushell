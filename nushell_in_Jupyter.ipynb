{
  "cells": [
    {
      "cell_type": "markdown",
      "metadata": {
        "colab_type": "text",
        "id": "view-in-github"
      },
      "source": [
        "<a href=\"https://colab.research.google.com/github/rwcitek/StructureAndInterpretationOfComputerShells-Nushell/blob/rwc/nushell_in_Jupyter.ipynb\" target=\"_parent\"><img src=\"https://colab.research.google.com/assets/colab-badge.svg\" alt=\"Open In Colab\"/></a>"
      ]
    },
    {
      "cell_type": "markdown",
      "metadata": {
        "id": "7fY894GM_2kM"
      },
      "source": [
        "# How to install nushell in Jupyter"
      ]
    },
    {
      "cell_type": "markdown",
      "metadata": {
        "id": "UtwHd8BwVX18"
      },
      "source": [
        "These commands have been tested in Google's CoLab and in GitHub's CodeSpaces, but may work in other Jupyter environments as well."
      ]
    },
    {
      "cell_type": "markdown",
      "metadata": {},
      "source": [
        "Display some info about who we are."
      ]
    },
    {
      "cell_type": "code",
      "execution_count": 29,
      "metadata": {},
      "outputs": [
        {
          "name": "stdout",
          "output_type": "stream",
          "text": [
            "codespace\n",
            "uid=1000(codespace) gid=1000(codespace) groups=1000(codespace),106(ssh),107(docker),988(pipx),989(python),990(oryx),991(golang),992(sdkman),993(rvm),994(conda),995(php),996(nvs),997(nvm),998(hugo),999(dotnet)\n",
            "/home/codespace\n"
          ]
        }
      ],
      "source": [
        "%%script bash\n",
        "whoami\n",
        "id\n",
        "echo ${HOME}"
      ]
    },
    {
      "cell_type": "markdown",
      "metadata": {},
      "source": [
        "Install some tools in the environment"
      ]
    },
    {
      "cell_type": "code",
      "execution_count": 20,
      "metadata": {
        "id": "4CiEBTA3uMCa"
      },
      "outputs": [],
      "source": [
        "%%capture output\n",
        "%%script bash\n",
        "export DEBIAN_FRONTEND=noninteractive\n",
        "sudo apt-get update\n",
        "sudo apt-get install -y pkg-config libssl-dev jq tree vim curl less elinks\n"
      ]
    },
    {
      "cell_type": "markdown",
      "metadata": {},
      "source": [
        "Install and configure the latest nushell."
      ]
    },
    {
      "cell_type": "code",
      "execution_count": 21,
      "metadata": {
        "id": "tOnEnbZ5ufeq"
      },
      "outputs": [],
      "source": [
        "%%capture output\n",
        "%%script bash\n",
        "cd /usr/local/bin/\n",
        "elinks --dump https://github.com/nushell/nushell/releases |\n",
        "  grep -m1 -o https:.*x86_64-unknown-linux-gnu.tar.gz |\n",
        "  xargs curl -Ls |\n",
        "  sudo tar -xzf -\n",
        "sudo ln -snf ./nu-*-unknown-linux-gnu/nu\n",
        "yes | nu >& /dev/null\n"
      ]
    },
    {
      "cell_type": "markdown",
      "metadata": {},
      "source": [
        "Display the command options.  Unfortunately, only some work."
      ]
    },
    {
      "cell_type": "code",
      "execution_count": 30,
      "metadata": {},
      "outputs": [
        {
          "name": "stdout",
          "output_type": "stream",
          "text": [
            "The nushell language and shell.\n",
            "\n",
            "\u001b[32mUsage\u001b[0m:\n",
            "  > nu {flags} (script file) ...(script args) \n",
            "\n",
            "\u001b[32mFlags\u001b[0m:\n",
            "  \u001b[36m-h\u001b[39m,\u001b[0m \u001b[36m--help\u001b[0m - Display the help message for this command\n",
            "  \u001b[36m-c\u001b[39m,\u001b[0m \u001b[36m--commands\u001b[0m <\u001b[94mString\u001b[0m> - run the given commands and then exit\n",
            "  \u001b[36m-e\u001b[39m,\u001b[0m \u001b[36m--execute\u001b[0m <\u001b[94mString\u001b[0m> - run the given commands and then enter an interactive shell\n",
            "  \u001b[36m-I\u001b[39m,\u001b[0m \u001b[36m--include-path\u001b[0m <\u001b[94mString\u001b[0m> - set the NU_LIB_DIRS for the given script (semicolon-delimited)\n",
            "  \u001b[36m-i\u001b[39m,\u001b[0m \u001b[36m--interactive\u001b[0m - start as an interactive shell\n",
            "  \u001b[36m-l\u001b[39m,\u001b[0m \u001b[36m--login\u001b[0m - start as a login shell\n",
            "  \u001b[36m-m\u001b[39m,\u001b[0m \u001b[36m--table-mode\u001b[0m <\u001b[94mString\u001b[0m> - the table mode to use. rounded is default.\n",
            "  \u001b[36m-n\u001b[39m,\u001b[0m \u001b[36m--no-config-file\u001b[0m - start with no config file and no env file\n",
            "  \u001b[36m--no-std-lib\u001b[0m - start with no standard library\n",
            "  \u001b[36m-t\u001b[39m,\u001b[0m \u001b[36m--threads\u001b[0m <\u001b[94mInt\u001b[0m> - threads to use for parallel commands\n",
            "  \u001b[36m-v\u001b[39m,\u001b[0m \u001b[36m--version\u001b[0m - print the version\n",
            "  \u001b[36m--config\u001b[0m <\u001b[94mString\u001b[0m> - start with an alternate config file\n",
            "  \u001b[36m--env-config\u001b[0m <\u001b[94mString\u001b[0m> - start with an alternate environment config file\n",
            "  \u001b[36m--ide-goto-def\u001b[0m <\u001b[94mInt\u001b[0m> - go to the definition of the item at the given position\n",
            "  \u001b[36m--ide-hover\u001b[0m <\u001b[94mInt\u001b[0m> - give information about the item at the given position\n",
            "  \u001b[36m--ide-complete\u001b[0m <\u001b[94mInt\u001b[0m> - list completions for the item at the given position\n",
            "  \u001b[36m--ide-check\u001b[0m <\u001b[94mInt\u001b[0m> - run a diagnostic check on the given source and limit number of errors returned to provided number\n",
            "  \u001b[36m--ide-ast\u001b[0m - generate the ast on the given source\n",
            "  \u001b[36m--plugin-config\u001b[0m <\u001b[94mString\u001b[0m> - start with an alternate plugin signature file\n",
            "  \u001b[36m--log-level\u001b[0m <\u001b[94mString\u001b[0m> - log level for diagnostic logs (error, warn, info, debug, trace). Off by default\n",
            "  \u001b[36m--log-target\u001b[0m <\u001b[94mString\u001b[0m> - set the target for the log to output. stdout, stderr(default), mixed or file\n",
            "  \u001b[36m--stdin\u001b[0m - redirect standard input to a command (with `-c`) or a script file\n",
            "  \u001b[36m--testbin\u001b[0m <\u001b[94mString\u001b[0m> - run internal test binary\n",
            "\n",
            "\u001b[32mParameters\u001b[0m:\n",
            "  \u001b[36mscript file\u001b[0m <\u001b[94mpath\u001b[0m>: name of the optional script file to run (optional)\n",
            "  ...\u001b[36mscript args\u001b[0m <\u001b[94mstring\u001b[0m>: parameters to the script file\n",
            "\n",
            "\u001b[32mExamples\u001b[0m:\n",
            "  Run a script\n",
            "  > \u001b[36mnu\u001b[0m \u001b[1;32mmyfile.nu\u001b[0m\n",
            "\n",
            "  Run nushell interactively (as a shell or REPL)\n",
            "  > \u001b[36mnu\u001b[0m\n",
            "\n"
          ]
        }
      ],
      "source": [
        "!nu --help"
      ]
    },
    {
      "cell_type": "markdown",
      "metadata": {},
      "source": [
        "Display the version"
      ]
    },
    {
      "cell_type": "code",
      "execution_count": null,
      "metadata": {},
      "outputs": [
        {
          "name": "stdout",
          "output_type": "stream",
          "text": [
            "0.83.1\n"
          ]
        }
      ],
      "source": [
        "!nu --version"
      ]
    },
    {
      "cell_type": "markdown",
      "metadata": {},
      "source": [
        "Get rid of the ASCII art for table display.\n"
      ]
    },
    {
      "cell_type": "code",
      "execution_count": null,
      "metadata": {},
      "outputs": [],
      "source": [
        "%%script bash\n",
        "sed -i -e '/mode.*rounded/ { s/mode/# mode/ ; s/$/\\n    mode: none / } ' \\\n",
        "  ${HOME}/.config/nushell/config.nu"
      ]
    },
    {
      "cell_type": "markdown",
      "metadata": {},
      "source": [
        "Verify the \"table\" setting has been modified in the config file."
      ]
    },
    {
      "cell_type": "code",
      "execution_count": 22,
      "metadata": {
        "colab": {
          "base_uri": "https://localhost:8080/"
        },
        "id": "jKspvACaBIGC",
        "outputId": "f05c27f6-d83c-4ee9-cb4b-db15a9da7999"
      },
      "outputs": [
        {
          "name": "stdout",
          "output_type": "stream",
          "text": [
            "\n",
            "    table: {\n",
            "        # mode: rounded # basic, compact, compact_double, light, thin, with_love, rounded, reinforced, heavy, none, other\n",
            "    mode: none \n",
            "        index_mode: always # \"always\" show indexes, \"never\" show indexes, \"auto\" = show indexes when a table has \"index\" column\n",
            "        show_empty: true # show 'empty list' and 'empty record' placeholders for command output\n",
            "        trim: {\n"
          ]
        }
      ],
      "source": [
        "!grep -C3 'mode: none' ${HOME}/.config/nushell/config.nu"
      ]
    },
    {
      "cell_type": "markdown",
      "metadata": {},
      "source": [
        "## Hello, world."
      ]
    },
    {
      "cell_type": "code",
      "execution_count": 34,
      "metadata": {},
      "outputs": [
        {
          "name": "stdout",
          "output_type": "stream",
          "text": [
            "Hello, world\n"
          ]
        }
      ],
      "source": [
        "!nu -c 'echo \"Hello, world\"'"
      ]
    },
    {
      "cell_type": "markdown",
      "metadata": {},
      "source": [
        "The current date and time."
      ]
    },
    {
      "cell_type": "code",
      "execution_count": 35,
      "metadata": {},
      "outputs": [
        {
          "name": "stdout",
          "output_type": "stream",
          "text": [
            "Tue, 15 Aug 2023 00:06:13 +0000 (now)\n"
          ]
        }
      ],
      "source": [
        "!nu -c 'date now'"
      ]
    },
    {
      "cell_type": "markdown",
      "metadata": {},
      "source": [
        "Try piping commands into nushell."
      ]
    },
    {
      "cell_type": "code",
      "execution_count": 1,
      "metadata": {},
      "outputs": [
        {
          "name": "stderr",
          "output_type": "stream",
          "text": [
            "Error:   \u001b[31m×\u001b[0m Nushell launched as a REPL, but STDIN is not a TTY; either launch in a\n",
            "  \u001b[31m│\u001b[0m valid terminal or provide arguments to invoke a script!\n",
            "\n"
          ]
        },
        {
          "ename": "CalledProcessError",
          "evalue": "Command 'b\"# doesn't work\\necho 'date now' | nu\\n\"' returned non-zero exit status 1.",
          "output_type": "error",
          "traceback": [
            "\u001b[0;31m---------------------------------------------------------------------------\u001b[0m",
            "\u001b[0;31mCalledProcessError\u001b[0m                        Traceback (most recent call last)",
            "Cell \u001b[0;32mIn[1], line 1\u001b[0m\n\u001b[0;32m----> 1\u001b[0m get_ipython()\u001b[39m.\u001b[39;49mrun_cell_magic(\u001b[39m'\u001b[39;49m\u001b[39mscript\u001b[39;49m\u001b[39m'\u001b[39;49m, \u001b[39m'\u001b[39;49m\u001b[39mbash\u001b[39;49m\u001b[39m'\u001b[39;49m, \u001b[39m\"\u001b[39;49m\u001b[39m# doesn\u001b[39;49m\u001b[39m'\u001b[39;49m\u001b[39mt work\u001b[39;49m\u001b[39m\\n\u001b[39;49;00m\u001b[39mecho \u001b[39;49m\u001b[39m'\u001b[39;49m\u001b[39mdate now\u001b[39;49m\u001b[39m'\u001b[39;49m\u001b[39m | nu\u001b[39;49m\u001b[39m\\n\u001b[39;49;00m\u001b[39m\"\u001b[39;49m)\n",
            "File \u001b[0;32m~/.local/lib/python3.10/site-packages/IPython/core/interactiveshell.py:2478\u001b[0m, in \u001b[0;36mInteractiveShell.run_cell_magic\u001b[0;34m(self, magic_name, line, cell)\u001b[0m\n\u001b[1;32m   2476\u001b[0m \u001b[39mwith\u001b[39;00m \u001b[39mself\u001b[39m\u001b[39m.\u001b[39mbuiltin_trap:\n\u001b[1;32m   2477\u001b[0m     args \u001b[39m=\u001b[39m (magic_arg_s, cell)\n\u001b[0;32m-> 2478\u001b[0m     result \u001b[39m=\u001b[39m fn(\u001b[39m*\u001b[39;49margs, \u001b[39m*\u001b[39;49m\u001b[39m*\u001b[39;49mkwargs)\n\u001b[1;32m   2480\u001b[0m \u001b[39m# The code below prevents the output from being displayed\u001b[39;00m\n\u001b[1;32m   2481\u001b[0m \u001b[39m# when using magics with decodator @output_can_be_silenced\u001b[39;00m\n\u001b[1;32m   2482\u001b[0m \u001b[39m# when the last Python token in the expression is a ';'.\u001b[39;00m\n\u001b[1;32m   2483\u001b[0m \u001b[39mif\u001b[39;00m \u001b[39mgetattr\u001b[39m(fn, magic\u001b[39m.\u001b[39mMAGIC_OUTPUT_CAN_BE_SILENCED, \u001b[39mFalse\u001b[39;00m):\n",
            "File \u001b[0;32m~/.local/lib/python3.10/site-packages/IPython/core/magics/script.py:314\u001b[0m, in \u001b[0;36mScriptMagics.shebang\u001b[0;34m(self, line, cell)\u001b[0m\n\u001b[1;32m    309\u001b[0m \u001b[39mif\u001b[39;00m args\u001b[39m.\u001b[39mraise_error \u001b[39mand\u001b[39;00m p\u001b[39m.\u001b[39mreturncode \u001b[39m!=\u001b[39m \u001b[39m0\u001b[39m:\n\u001b[1;32m    310\u001b[0m     \u001b[39m# If we get here and p.returncode is still None, we must have\u001b[39;00m\n\u001b[1;32m    311\u001b[0m     \u001b[39m# killed it but not yet seen its return code. We don't wait for it,\u001b[39;00m\n\u001b[1;32m    312\u001b[0m     \u001b[39m# in case it's stuck in uninterruptible sleep. -9 = SIGKILL\u001b[39;00m\n\u001b[1;32m    313\u001b[0m     rc \u001b[39m=\u001b[39m p\u001b[39m.\u001b[39mreturncode \u001b[39mor\u001b[39;00m \u001b[39m-\u001b[39m\u001b[39m9\u001b[39m\n\u001b[0;32m--> 314\u001b[0m     \u001b[39mraise\u001b[39;00m CalledProcessError(rc, cell)\n",
            "\u001b[0;31mCalledProcessError\u001b[0m: Command 'b\"# doesn't work\\necho 'date now' | nu\\n\"' returned non-zero exit status 1."
          ]
        }
      ],
      "source": [
        "%%script bash\n",
        "# doesn't work\n",
        "echo 'date now' | nu"
      ]
    },
    {
      "cell_type": "code",
      "execution_count": 2,
      "metadata": {},
      "outputs": [
        {
          "name": "stderr",
          "output_type": "stream",
          "text": [
            "Error:   \u001b[31m×\u001b[0m Nushell launched as a REPL, but STDIN is not a TTY; either launch in a\n",
            "  \u001b[31m│\u001b[0m valid terminal or provide arguments to invoke a script!\n",
            "\n"
          ]
        },
        {
          "ename": "CalledProcessError",
          "evalue": "Command 'b\"# doesn't work\\necho 'date now' | nu --stdin\\n\"' returned non-zero exit status 1.",
          "output_type": "error",
          "traceback": [
            "\u001b[0;31m---------------------------------------------------------------------------\u001b[0m",
            "\u001b[0;31mCalledProcessError\u001b[0m                        Traceback (most recent call last)",
            "Cell \u001b[0;32mIn[2], line 1\u001b[0m\n\u001b[0;32m----> 1\u001b[0m get_ipython()\u001b[39m.\u001b[39;49mrun_cell_magic(\u001b[39m'\u001b[39;49m\u001b[39mscript\u001b[39;49m\u001b[39m'\u001b[39;49m, \u001b[39m'\u001b[39;49m\u001b[39mbash\u001b[39;49m\u001b[39m'\u001b[39;49m, \u001b[39m\"\u001b[39;49m\u001b[39m# doesn\u001b[39;49m\u001b[39m'\u001b[39;49m\u001b[39mt work\u001b[39;49m\u001b[39m\\n\u001b[39;49;00m\u001b[39mecho \u001b[39;49m\u001b[39m'\u001b[39;49m\u001b[39mdate now\u001b[39;49m\u001b[39m'\u001b[39;49m\u001b[39m | nu --stdin\u001b[39;49m\u001b[39m\\n\u001b[39;49;00m\u001b[39m\"\u001b[39;49m)\n",
            "File \u001b[0;32m~/.local/lib/python3.10/site-packages/IPython/core/interactiveshell.py:2478\u001b[0m, in \u001b[0;36mInteractiveShell.run_cell_magic\u001b[0;34m(self, magic_name, line, cell)\u001b[0m\n\u001b[1;32m   2476\u001b[0m \u001b[39mwith\u001b[39;00m \u001b[39mself\u001b[39m\u001b[39m.\u001b[39mbuiltin_trap:\n\u001b[1;32m   2477\u001b[0m     args \u001b[39m=\u001b[39m (magic_arg_s, cell)\n\u001b[0;32m-> 2478\u001b[0m     result \u001b[39m=\u001b[39m fn(\u001b[39m*\u001b[39;49margs, \u001b[39m*\u001b[39;49m\u001b[39m*\u001b[39;49mkwargs)\n\u001b[1;32m   2480\u001b[0m \u001b[39m# The code below prevents the output from being displayed\u001b[39;00m\n\u001b[1;32m   2481\u001b[0m \u001b[39m# when using magics with decodator @output_can_be_silenced\u001b[39;00m\n\u001b[1;32m   2482\u001b[0m \u001b[39m# when the last Python token in the expression is a ';'.\u001b[39;00m\n\u001b[1;32m   2483\u001b[0m \u001b[39mif\u001b[39;00m \u001b[39mgetattr\u001b[39m(fn, magic\u001b[39m.\u001b[39mMAGIC_OUTPUT_CAN_BE_SILENCED, \u001b[39mFalse\u001b[39;00m):\n",
            "File \u001b[0;32m~/.local/lib/python3.10/site-packages/IPython/core/magics/script.py:314\u001b[0m, in \u001b[0;36mScriptMagics.shebang\u001b[0;34m(self, line, cell)\u001b[0m\n\u001b[1;32m    309\u001b[0m \u001b[39mif\u001b[39;00m args\u001b[39m.\u001b[39mraise_error \u001b[39mand\u001b[39;00m p\u001b[39m.\u001b[39mreturncode \u001b[39m!=\u001b[39m \u001b[39m0\u001b[39m:\n\u001b[1;32m    310\u001b[0m     \u001b[39m# If we get here and p.returncode is still None, we must have\u001b[39;00m\n\u001b[1;32m    311\u001b[0m     \u001b[39m# killed it but not yet seen its return code. We don't wait for it,\u001b[39;00m\n\u001b[1;32m    312\u001b[0m     \u001b[39m# in case it's stuck in uninterruptible sleep. -9 = SIGKILL\u001b[39;00m\n\u001b[1;32m    313\u001b[0m     rc \u001b[39m=\u001b[39m p\u001b[39m.\u001b[39mreturncode \u001b[39mor\u001b[39;00m \u001b[39m-\u001b[39m\u001b[39m9\u001b[39m\n\u001b[0;32m--> 314\u001b[0m     \u001b[39mraise\u001b[39;00m CalledProcessError(rc, cell)\n",
            "\u001b[0;31mCalledProcessError\u001b[0m: Command 'b\"# doesn't work\\necho 'date now' | nu --stdin\\n\"' returned non-zero exit status 1."
          ]
        }
      ],
      "source": [
        "%%script bash\n",
        "# doesn't work\n",
        "echo 'date now' | nu --stdin"
      ]
    },
    {
      "cell_type": "markdown",
      "metadata": {},
      "source": [
        "Saving commands to a file and then running to a file does work."
      ]
    },
    {
      "cell_type": "code",
      "execution_count": 3,
      "metadata": {},
      "outputs": [
        {
          "name": "stdout",
          "output_type": "stream",
          "text": [
            "Tue, 15 Aug 2023 00:15:15 +0000 (now)"
          ]
        }
      ],
      "source": [
        "%%script bash\n",
        "# does work\n",
        "echo 'date now' > /tmp/nushell.nu\n",
        "nu /tmp/nushell.nu\n",
        "\n"
      ]
    },
    {
      "cell_type": "markdown",
      "metadata": {},
      "source": [
        "## Workaround for piping"
      ]
    },
    {
      "cell_type": "markdown",
      "metadata": {},
      "source": [
        "Create a script that saves stdin to a script then have nushell run the script."
      ]
    },
    {
      "cell_type": "code",
      "execution_count": 10,
      "metadata": {},
      "outputs": [],
      "source": [
        "%%script bash\n",
        "cat <<'eof' | sudo tee /usr/local/bin/nushell > /dev/null\n",
        "#!/usr/bin/env bash\n",
        "cat > /tmp/nushell.tmp.nu\n",
        "nu --config ${HOME}/.config/nushell/config.nu /tmp/nushell.tmp.nu\n",
        "eof\n",
        "sudo chmod +x /usr/local/bin/nushell\n"
      ]
    },
    {
      "cell_type": "code",
      "execution_count": 11,
      "metadata": {},
      "outputs": [
        {
          "name": "stdout",
          "output_type": "stream",
          "text": [
            " #     name     type    size       modified    \n",
            " 0   examples   dir    4.1 KB   39 minutes ago \n"
          ]
        }
      ],
      "source": [
        "%%script nushell\n",
        "ls | where type == dir"
      ]
    },
    {
      "cell_type": "code",
      "execution_count": 13,
      "metadata": {
        "colab": {
          "base_uri": "https://localhost:8080/"
        },
        "id": "hmG_TMbuJFJN",
        "outputId": "9a3b1846-64b2-459e-969a-7fd7f3a00dd8"
      },
      "outputs": [
        {
          "name": "stdout",
          "output_type": "stream",
          "text": [
            "Hello, world\n"
          ]
        }
      ],
      "source": [
        "%%script nushell\n",
        "echo \"Hello, world\"\n"
      ]
    },
    {
      "cell_type": "code",
      "execution_count": null,
      "metadata": {
        "id": "EfsCzVl60_xH"
      },
      "outputs": [],
      "source": []
    },
    {
      "cell_type": "code",
      "execution_count": null,
      "metadata": {
        "id": "r7j40VwfuLxw"
      },
      "outputs": [],
      "source": []
    },
    {
      "cell_type": "code",
      "execution_count": null,
      "metadata": {
        "id": "NU3ar7BODsdQ"
      },
      "outputs": [],
      "source": []
    },
    {
      "cell_type": "code",
      "execution_count": null,
      "metadata": {
        "id": "D95cFbdsEC0I"
      },
      "outputs": [],
      "source": []
    },
    {
      "cell_type": "code",
      "execution_count": null,
      "metadata": {
        "id": "oOY7WzTFElnj"
      },
      "outputs": [],
      "source": []
    },
    {
      "cell_type": "code",
      "execution_count": null,
      "metadata": {
        "id": "Sr4ay-ZtEljK"
      },
      "outputs": [],
      "source": []
    },
    {
      "cell_type": "code",
      "execution_count": null,
      "metadata": {
        "id": "QLfRWVCqElf2"
      },
      "outputs": [],
      "source": []
    },
    {
      "cell_type": "code",
      "execution_count": null,
      "metadata": {
        "id": "6eJ9p-tbElcc"
      },
      "outputs": [],
      "source": []
    },
    {
      "cell_type": "code",
      "execution_count": null,
      "metadata": {
        "id": "YBSx5xFfElZA"
      },
      "outputs": [],
      "source": []
    },
    {
      "cell_type": "code",
      "execution_count": null,
      "metadata": {
        "id": "XnfsqQKSElU6"
      },
      "outputs": [],
      "source": []
    },
    {
      "cell_type": "code",
      "execution_count": null,
      "metadata": {
        "id": "ckLStyy9ElRP"
      },
      "outputs": [],
      "source": []
    },
    {
      "cell_type": "code",
      "execution_count": null,
      "metadata": {
        "id": "dEGG1RgTElNu"
      },
      "outputs": [],
      "source": []
    },
    {
      "cell_type": "code",
      "execution_count": null,
      "metadata": {
        "id": "PkFUcCk9ElJ7"
      },
      "outputs": [],
      "source": []
    },
    {
      "cell_type": "code",
      "execution_count": null,
      "metadata": {
        "id": "yYUPpS85ElGU"
      },
      "outputs": [],
      "source": []
    }
  ],
  "metadata": {
    "colab": {
      "authorship_tag": "ABX9TyOPimhdZDRuh5EdETZo2uZF",
      "include_colab_link": true,
      "provenance": []
    },
    "kernelspec": {
      "display_name": "Python 3",
      "name": "python3"
    },
    "language_info": {
      "codemirror_mode": {
        "name": "ipython",
        "version": 3
      },
      "file_extension": ".py",
      "mimetype": "text/x-python",
      "name": "python",
      "nbconvert_exporter": "python",
      "pygments_lexer": "ipython3",
      "version": "3.10.8"
    }
  },
  "nbformat": 4,
  "nbformat_minor": 0
}
