{
  "cells": [
    {
      "cell_type": "markdown",
      "metadata": {
        "colab_type": "text",
        "id": "view-in-github"
      },
      "source": [
        "<a href=\"https://colab.research.google.com/github/rwcitek/StructureAndInterpretationOfComputerShells-Nushell/blob/rwc/nushell_in_Jupyter.ipynb\" target=\"_parent\"><img src=\"https://colab.research.google.com/assets/colab-badge.svg\" alt=\"Open In Colab\"/></a>"
      ]
    },
    {
      "cell_type": "markdown",
      "metadata": {
        "id": "7fY894GM_2kM"
      },
      "source": [
        "# How to install nushell in Jupyter"
      ]
    },
    {
      "cell_type": "markdown",
      "metadata": {
        "id": "UtwHd8BwVX18"
      },
      "source": [
        "These commands have been tested in Google's CoLab and in GitHub's CodeSpaces, but may work in other Jupyter environments as well."
      ]
    },
    {
      "cell_type": "markdown",
      "metadata": {},
      "source": [
        "Display some info about who we are."
      ]
    },
    {
      "cell_type": "code",
      "execution_count": null,
      "metadata": {},
      "outputs": [],
      "source": [
        "%%script bash\n",
        "whoami\n",
        "id\n",
        "echo ${HOME}"
      ]
    },
    {
      "cell_type": "markdown",
      "metadata": {},
      "source": [
        "Install some tools in the environment"
      ]
    },
    {
      "cell_type": "code",
      "execution_count": null,
      "metadata": {
        "id": "4CiEBTA3uMCa"
      },
      "outputs": [],
      "source": [
        "%%capture output\n",
        "%%script bash\n",
        "export DEBIAN_FRONTEND=noninteractive\n",
        "sudo apt-get update\n",
        "sudo apt-get install -y pkg-config libssl-dev jq tree vim curl less elinks\n"
      ]
    },
    {
      "cell_type": "markdown",
      "metadata": {},
      "source": [
        "Install and configure the latest nushell."
      ]
    },
    {
      "cell_type": "code",
      "execution_count": null,
      "metadata": {
        "id": "tOnEnbZ5ufeq"
      },
      "outputs": [],
      "source": [
        "%%capture output\n",
        "%%script bash\n",
        "cd /usr/local/bin/\n",
        "elinks --dump https://github.com/nushell/nushell/releases |\n",
        "  grep -m1 -o https:.*x86_64-unknown-linux-gnu.tar.gz |\n",
        "  xargs curl -Ls |\n",
        "  sudo tar -xzf -\n",
        "sudo ln -snf ./nu-*-unknown-linux-gnu/nu\n",
        "yes | nu >& /dev/null\n"
      ]
    },
    {
      "cell_type": "markdown",
      "metadata": {},
      "source": [
        "Display the command options.  Unfortunately, only some work."
      ]
    },
    {
      "cell_type": "code",
      "execution_count": null,
      "metadata": {},
      "outputs": [],
      "source": [
        "!nu --help"
      ]
    },
    {
      "cell_type": "markdown",
      "metadata": {},
      "source": [
        "Display the version"
      ]
    },
    {
      "cell_type": "code",
      "execution_count": null,
      "metadata": {},
      "outputs": [],
      "source": [
        "!nu --version"
      ]
    },
    {
      "cell_type": "markdown",
      "metadata": {},
      "source": [
        "Get rid of the ASCII art for table display.\n"
      ]
    },
    {
      "cell_type": "code",
      "execution_count": null,
      "metadata": {},
      "outputs": [],
      "source": [
        "%%script bash\n",
        "sed -i -e '/mode.*rounded/ { s/mode/# mode/ ; s/$/\\n    mode: none / } ' \\\n",
        "  ${HOME}/.config/nushell/config.nu"
      ]
    },
    {
      "cell_type": "markdown",
      "metadata": {},
      "source": [
        "Verify the \"table\" setting has been modified in the config file."
      ]
    },
    {
      "cell_type": "code",
      "execution_count": null,
      "metadata": {
        "colab": {
          "base_uri": "https://localhost:8080/"
        },
        "id": "jKspvACaBIGC",
        "outputId": "f05c27f6-d83c-4ee9-cb4b-db15a9da7999"
      },
      "outputs": [],
      "source": [
        "!grep -C3 'mode: none' ${HOME}/.config/nushell/config.nu"
      ]
    },
    {
      "cell_type": "markdown",
      "metadata": {},
      "source": [
        "## Hello, world."
      ]
    },
    {
      "cell_type": "code",
      "execution_count": null,
      "metadata": {},
      "outputs": [],
      "source": [
        "!nu -c 'echo \"Hello, world\"'"
      ]
    },
    {
      "cell_type": "markdown",
      "metadata": {},
      "source": [
        "The current date and time."
      ]
    },
    {
      "cell_type": "code",
      "execution_count": null,
      "metadata": {},
      "outputs": [],
      "source": [
        "!nu -c 'date now'"
      ]
    },
    {
      "cell_type": "markdown",
      "metadata": {},
      "source": [
        "Try piping commands into nushell."
      ]
    },
    {
      "cell_type": "code",
      "execution_count": null,
      "metadata": {},
      "outputs": [],
      "source": [
        "%%script bash\n",
        "# doesn't work\n",
        "echo 'date now' | nu"
      ]
    },
    {
      "cell_type": "code",
      "execution_count": null,
      "metadata": {},
      "outputs": [],
      "source": [
        "%%script bash\n",
        "# doesn't work\n",
        "echo 'date now' | nu --stdin"
      ]
    },
    {
      "cell_type": "markdown",
      "metadata": {},
      "source": [
        "Saving commands to a file and then running to a file does work."
      ]
    },
    {
      "cell_type": "code",
      "execution_count": null,
      "metadata": {},
      "outputs": [],
      "source": [
        "%%script bash\n",
        "# does work\n",
        "echo 'date now' > /tmp/nushell.nu\n",
        "nu /tmp/nushell.nu\n",
        "\n"
      ]
    },
    {
      "cell_type": "markdown",
      "metadata": {},
      "source": [
        "## Workaround for piping"
      ]
    },
    {
      "cell_type": "markdown",
      "metadata": {},
      "source": [
        "Create a script that saves stdin to a script then have nushell run the script."
      ]
    },
    {
      "cell_type": "code",
      "execution_count": null,
      "metadata": {},
      "outputs": [],
      "source": [
        "%%script bash\n",
        "cat <<'eof' | sudo tee /usr/local/bin/nushell > /dev/null\n",
        "#!/usr/bin/env bash\n",
        "cat > /tmp/nushell.tmp.nu\n",
        "nu --config ${HOME}/.config/nushell/config.nu /tmp/nushell.tmp.nu\n",
        "eof\n",
        "sudo chmod +x /usr/local/bin/nushell\n"
      ]
    },
    {
      "cell_type": "code",
      "execution_count": null,
      "metadata": {},
      "outputs": [],
      "source": [
        "%%script nushell\n",
        "ls | where type == dir"
      ]
    },
    {
      "cell_type": "code",
      "execution_count": null,
      "metadata": {
        "colab": {
          "base_uri": "https://localhost:8080/"
        },
        "id": "hmG_TMbuJFJN",
        "outputId": "9a3b1846-64b2-459e-969a-7fd7f3a00dd8"
      },
      "outputs": [],
      "source": [
        "%%script nushell\n",
        "echo \"Hello, world\"\n"
      ]
    },
    {
      "cell_type": "code",
      "execution_count": null,
      "metadata": {
        "id": "EfsCzVl60_xH"
      },
      "outputs": [],
      "source": []
    },
    {
      "cell_type": "code",
      "execution_count": null,
      "metadata": {
        "id": "r7j40VwfuLxw"
      },
      "outputs": [],
      "source": []
    },
    {
      "cell_type": "code",
      "execution_count": null,
      "metadata": {
        "id": "NU3ar7BODsdQ"
      },
      "outputs": [],
      "source": []
    },
    {
      "cell_type": "code",
      "execution_count": null,
      "metadata": {
        "id": "D95cFbdsEC0I"
      },
      "outputs": [],
      "source": []
    },
    {
      "cell_type": "code",
      "execution_count": null,
      "metadata": {
        "id": "oOY7WzTFElnj"
      },
      "outputs": [],
      "source": []
    },
    {
      "cell_type": "code",
      "execution_count": null,
      "metadata": {
        "id": "Sr4ay-ZtEljK"
      },
      "outputs": [],
      "source": []
    },
    {
      "cell_type": "code",
      "execution_count": null,
      "metadata": {
        "id": "QLfRWVCqElf2"
      },
      "outputs": [],
      "source": []
    },
    {
      "cell_type": "code",
      "execution_count": null,
      "metadata": {
        "id": "6eJ9p-tbElcc"
      },
      "outputs": [],
      "source": []
    },
    {
      "cell_type": "code",
      "execution_count": null,
      "metadata": {
        "id": "YBSx5xFfElZA"
      },
      "outputs": [],
      "source": []
    },
    {
      "cell_type": "code",
      "execution_count": null,
      "metadata": {
        "id": "XnfsqQKSElU6"
      },
      "outputs": [],
      "source": []
    },
    {
      "cell_type": "code",
      "execution_count": null,
      "metadata": {
        "id": "ckLStyy9ElRP"
      },
      "outputs": [],
      "source": []
    },
    {
      "cell_type": "code",
      "execution_count": null,
      "metadata": {
        "id": "dEGG1RgTElNu"
      },
      "outputs": [],
      "source": []
    },
    {
      "cell_type": "code",
      "execution_count": null,
      "metadata": {
        "id": "PkFUcCk9ElJ7"
      },
      "outputs": [],
      "source": []
    },
    {
      "cell_type": "code",
      "execution_count": null,
      "metadata": {
        "id": "yYUPpS85ElGU"
      },
      "outputs": [],
      "source": []
    }
  ],
  "metadata": {
    "colab": {
      "authorship_tag": "ABX9TyOPimhdZDRuh5EdETZo2uZF",
      "include_colab_link": true,
      "provenance": []
    },
    "kernelspec": {
      "display_name": "Python 3",
      "name": "python3"
    },
    "language_info": {
      "codemirror_mode": {
        "name": "ipython",
        "version": 3
      },
      "file_extension": ".py",
      "mimetype": "text/x-python",
      "name": "python",
      "nbconvert_exporter": "python",
      "pygments_lexer": "ipython3",
      "version": "3.10.8"
    }
  },
  "nbformat": 4,
  "nbformat_minor": 0
}
